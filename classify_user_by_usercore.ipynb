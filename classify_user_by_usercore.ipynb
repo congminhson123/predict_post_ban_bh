{
 "cells": [
  {
   "cell_type": "code",
   "execution_count": 49,
   "metadata": {},
   "outputs": [],
   "source": [
    "import time\n",
    "import sys\n",
    "from elasticsearch import Elasticsearch\n",
    "from pandas import DataFrame\n",
    "\n",
    "es = Elasticsearch('http://103.74.122.196:9200')\n",
    "\n",
    "time_sleep = 1\n",
    "keywords = []\n",
    "mustnot = []\n",
    "kw = open(\"keywords.txt\", encoding=\"utf-8\")\n",
    "mn = open(\"mustnot.txt\", encoding=\"utf-8\")\n",
    "for i in kw:\n",
    "    keywords.append(i.strip())\n",
    "for i in mn:\n",
    "    mustnot.append(i.strip())\n",
    "user_id = list()\n"
   ]
  },
  {
   "cell_type": "code",
   "execution_count": 53,
   "metadata": {},
   "outputs": [
    {
     "data": {
      "text/plain": [
       "{'_scroll_id': 'DnF1ZXJ5VGhlbkZldGNoMgAAAAAB_yNIFk9RUjhXdzhpUnVpNnNnU3plNmVFZ0EAAAAAAf8jSRZPUVI4V3c4aVJ1aTZzZ1N6ZTZlRWdBAAAAAAH_I0oWT1FSOFd3OGlSdWk2c2dTemU2ZUVnQQAAAAAB_yNLFk9RUjhXdzhpUnVpNnNnU3plNmVFZ0EAAAAAAf8jTBZPUVI4V3c4aVJ1aTZzZ1N6ZTZlRWdBAAAAAAH_I00WT1FSOFd3OGlSdWk2c2dTemU2ZUVnQQAAAAAB_yNOFk9RUjhXdzhpUnVpNnNnU3plNmVFZ0EAAAAAAf8jTxZPUVI4V3c4aVJ1aTZzZ1N6ZTZlRWdBAAAAAAH_I1AWT1FSOFd3OGlSdWk2c2dTemU2ZUVnQQAAAAAB_yNRFk9RUjhXdzhpUnVpNnNnU3plNmVFZ0EAAAAAAf8jUhZPUVI4V3c4aVJ1aTZzZ1N6ZTZlRWdBAAAAAAH_I1MWT1FSOFd3OGlSdWk2c2dTemU2ZUVnQQAAAAAB_yNUFk9RUjhXdzhpUnVpNnNnU3plNmVFZ0EAAAAAAf8jVRZPUVI4V3c4aVJ1aTZzZ1N6ZTZlRWdBAAAAAAH_I1YWT1FSOFd3OGlSdWk2c2dTemU2ZUVnQQAAAAAAgpxrFnBPZkxPalNhUzhHdE5wcEcySDJDekEAAAAAAf8jVxZPUVI4V3c4aVJ1aTZzZ1N6ZTZlRWdBAAAAAAH_I1gWT1FSOFd3OGlSdWk2c2dTemU2ZUVnQQAAAAAB_yNZFk9RUjhXdzhpUnVpNnNnU3plNmVFZ0EAAAAAAf8jWhZPUVI4V3c4aVJ1aTZzZ1N6ZTZlRWdBAAAAAACCnG0WcE9mTE9qU2FTOEd0TnBwRzJIMkN6QQAAAAAB_yNbFk9RUjhXdzhpUnVpNnNnU3plNmVFZ0EAAAAAAf8jXBZPUVI4V3c4aVJ1aTZzZ1N6ZTZlRWdBAAAAAACCnGoWcE9mTE9qU2FTOEd0TnBwRzJIMkN6QQAAAAAB_yNdFk9RUjhXdzhpUnVpNnNnU3plNmVFZ0EAAAAAAf8jXhZPUVI4V3c4aVJ1aTZzZ1N6ZTZlRWdBAAAAAAH_I18WT1FSOFd3OGlSdWk2c2dTemU2ZUVnQQAAAAAB_yNgFk9RUjhXdzhpUnVpNnNnU3plNmVFZ0EAAAAAAIKcbBZwT2ZMT2pTYVM4R3ROcHBHMkgyQ3pBAAAAAACCnG4WcE9mTE9qU2FTOEd0TnBwRzJIMkN6QQAAAAAB_yNhFk9RUjhXdzhpUnVpNnNnU3plNmVFZ0EAAAAAAIKcbxZwT2ZMT2pTYVM4R3ROcHBHMkgyQ3pBAAAAAAH_I2IWT1FSOFd3OGlSdWk2c2dTemU2ZUVnQQAAAAAB_yNjFk9RUjhXdzhpUnVpNnNnU3plNmVFZ0EAAAAAAf8jZBZPUVI4V3c4aVJ1aTZzZ1N6ZTZlRWdBAAAAAACCnHAWcE9mTE9qU2FTOEd0TnBwRzJIMkN6QQAAAAAB_yNlFk9RUjhXdzhpUnVpNnNnU3plNmVFZ0EAAAAAAf8jZhZPUVI4V3c4aVJ1aTZzZ1N6ZTZlRWdBAAAAAAH_I2cWT1FSOFd3OGlSdWk2c2dTemU2ZUVnQQAAAAAB_yNoFk9RUjhXdzhpUnVpNnNnU3plNmVFZ0EAAAAAAf8jaRZPUVI4V3c4aVJ1aTZzZ1N6ZTZlRWdBAAAAAAH_I2oWT1FSOFd3OGlSdWk2c2dTemU2ZUVnQQAAAAAB_yNrFk9RUjhXdzhpUnVpNnNnU3plNmVFZ0EAAAAAAf8jbBZPUVI4V3c4aVJ1aTZzZ1N6ZTZlRWdBAAAAAAH_I20WT1FSOFd3OGlSdWk2c2dTemU2ZUVnQQAAAAAB_yNuFk9RUjhXdzhpUnVpNnNnU3plNmVFZ0EAAAAAAf8jbxZPUVI4V3c4aVJ1aTZzZ1N6ZTZlRWdBAAAAAAH_I3AWT1FSOFd3OGlSdWk2c2dTemU2ZUVnQQAAAAAB_yNxFk9RUjhXdzhpUnVpNnNnU3plNmVFZ0EAAAAAAf8jchZPUVI4V3c4aVJ1aTZzZ1N6ZTZlRWdB',\n",
       " 'took': 295,\n",
       " 'timed_out': False,\n",
       " '_shards': {'total': 50, 'successful': 50, 'skipped': 0, 'failed': 0},\n",
       " 'hits': {'total': {'value': 132733, 'relation': 'eq'},\n",
       "  'max_score': 79.399185,\n",
       "  'hits': []}}"
      ]
     },
     "execution_count": 53,
     "metadata": {},
     "output_type": "execute_result"
    }
   ],
   "source": [
    "body = {\n",
    "#     'from': 0,\n",
    "    'size': 10000,\n",
    "    'query': {\n",
    "        'bool': {\n",
    "            'must': [\n",
    "                {'bool': {\n",
    "                        'should': [\n",
    "\n",
    "                        ]\n",
    "                }}\n",
    "                \n",
    "            ],\n",
    "            'must_not': [\n",
    "                \n",
    "            ]\n",
    "        }\n",
    "    },\n",
    "    'track_total_hits': True,\n",
    "    '_source': [\n",
    "        'id','works', \n",
    "        \n",
    "    ]\n",
    "}\n",
    "for i in keywords:\n",
    "    body[\"query\"][\"bool\"][\"must\"][0][\"bool\"][\"should\"].append({\"match_phrase\": {\"works.employer\": i}})\n",
    "    body[\"query\"][\"bool\"][\"must\"][0][\"bool\"][\"should\"].append({\"match_phrase\": {\"works.position\": i}})\n",
    "res = es.search(index=\"dsminer_user_core\", body=body, scroll = '1s')\n",
    "old_scroll_id = res['_scroll_id']  # id của lần scroll\n",
    "\n",
    "while len(res['hits']['hits']):\n",
    "\n",
    "    for doc in res['hits']['hits']:\n",
    "        user_id.append(doc['_source']['id'])\n",
    "\n",
    "    # request sử dụng scroll api\n",
    "    res = es.scroll(\n",
    "        scroll_id=old_scroll_id,\n",
    "        scroll='1s'\n",
    "    )\n",
    "    old_scroll_id = res['_scroll_id']\n",
    "res"
   ]
  },
  {
   "cell_type": "code",
   "execution_count": 54,
   "metadata": {},
   "outputs": [
    {
     "data": {
      "text/plain": [
       "158137"
      ]
     },
     "execution_count": 54,
     "metadata": {},
     "output_type": "execute_result"
    }
   ],
   "source": [
    "len(user_id)"
   ]
  },
  {
   "cell_type": "code",
   "execution_count": null,
   "metadata": {},
   "outputs": [],
   "source": []
  },
  {
   "cell_type": "code",
   "execution_count": null,
   "metadata": {},
   "outputs": [],
   "source": []
  }
 ],
 "metadata": {
  "kernelspec": {
   "display_name": "Python 3",
   "language": "python",
   "name": "python3"
  },
  "language_info": {
   "codemirror_mode": {
    "name": "ipython",
    "version": 3
   },
   "file_extension": ".py",
   "mimetype": "text/x-python",
   "name": "python",
   "nbconvert_exporter": "python",
   "pygments_lexer": "ipython3",
   "version": "3.8.3"
  }
 },
 "nbformat": 4,
 "nbformat_minor": 4
}
