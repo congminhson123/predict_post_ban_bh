{
 "cells": [
  {
   "cell_type": "code",
   "execution_count": 42,
   "metadata": {},
   "outputs": [
    {
     "data": {
      "text/plain": [
       "['bảo hiểm y tế',\n",
       " 'bhyt',\n",
       " 'bh_y_te',\n",
       " 'bh_y_tế',\n",
       " 'bhytế',\n",
       " 'bhyte',\n",
       " 'bh y tế',\n",
       " 'bh y te',\n",
       " 'bảo hiểm nhân thọ',\n",
       " 'bhnt',\n",
       " 'bh_nhan_tho',\n",
       " 'bh_nhân_thọ',\n",
       " 'bhnhantho',\n",
       " 'bhnhânthọ',\n",
       " 'bh nhân thọ',\n",
       " 'bh nhan tho',\n",
       " 'bảo hiểm sức khỏe',\n",
       " 'bhsk',\n",
       " 'bh_sức_khỏe',\n",
       " 'bh_suc_khoe',\n",
       " 'bhsứckhỏe',\n",
       " 'bhsuckhoe',\n",
       " 'bh sức khỏe',\n",
       " 'bh suc khoe',\n",
       " 'bảo hiểm bệnh hiểm nghèo',\n",
       " 'bảo hiểm chăm sóc sức khỏe',\n",
       " 'bh benh hiem ngheo',\n",
       " 'bhbệnhhiểmnghèo',\n",
       " 'bh bệnh hiểm nghèo',\n",
       " 'bhchămsócsứckhỏe',\n",
       " 'bhchamsocsuckhoe',\n",
       " 'bh cham soc suc khoe',\n",
       " 'bh chăm sóc sức khỏe',\n",
       " 'bảo hiểm thân thể',\n",
       " 'bhtt',\n",
       " 'bh_thân_thể',\n",
       " 'bh_than_the',\n",
       " 'bh thân thể',\n",
       " 'bhthânthể',\n",
       " 'bhthanthe',\n",
       " 'bh than the',\n",
       " 'bảo hiểm xe cơ giới',\n",
       " 'bhxecơgiới',\n",
       " 'bh xe cơ giới',\n",
       " 'bhxecogioi',\n",
       " 'bảo hiểm ô tô',\n",
       " 'bhôtô',\n",
       " 'bh_o_to',\n",
       " 'bh_ô_tô',\n",
       " 'bhoto',\n",
       " 'bh ô tô',\n",
       " 'bh o to',\n",
       " 'bảo hiểm xe máy',\n",
       " 'bhxemáy',\n",
       " 'bhxemay',\n",
       " 'bh_xe_máy',\n",
       " 'bh_xe_may',\n",
       " 'bh xe máy',\n",
       " 'bh xe may',\n",
       " 'bảo hiểm xã hội',\n",
       " 'bhxh',\n",
       " 'bh_xã_hội',\n",
       " 'bh_xa_hoi',\n",
       " 'bhxãhội',\n",
       " 'bhxahoi',\n",
       " 'bh xã hội',\n",
       " 'bh xa hoi',\n",
       " 'bảo hiểm tài chính',\n",
       " 'bhtaichinh',\n",
       " 'bh tài chính',\n",
       " 'bh tai chinh',\n",
       " 'bảo hiểm kinh doanh',\n",
       " 'bhkinhdoanh',\n",
       " 'bh kinh doanh',\n",
       " 'bảo hiểm tai nạn',\n",
       " 'bh_tai_nạn',\n",
       " 'bh_tai_nan',\n",
       " 'bhtainạn',\n",
       " 'bhtainan',\n",
       " 'bảo hiểm tài sản',\n",
       " 'bh_tài_sản',\n",
       " 'bh_tai_san',\n",
       " 'bh tài sản',\n",
       " 'bh_tài_sản',\n",
       " 'bhtaisan',\n",
       " 'bh tai san',\n",
       " 'bảo hiểm nhà',\n",
       " 'bhnhà',\n",
       " 'bhnha',\n",
       " 'bh nhà',\n",
       " 'bảo hiểm tín dụng',\n",
       " 'bhtindung',\n",
       " 'bh_tin_dung',\n",
       " 'bh_tín_dụng',\n",
       " 'bh tín dụng',\n",
       " 'bh tin dung',\n",
       " 'bảo hiểm hàng không',\n",
       " 'bhhangkhong',\n",
       " 'bh hàng không',\n",
       " 'bh hang khong',\n",
       " 'bảo hiểm thương mại',\n",
       " 'bhthươngmại',\n",
       " 'bhthuongmai',\n",
       " 'bh_thuong_mai',\n",
       " 'bh_thương_mại',\n",
       " 'bh thương mại',\n",
       " 'bh thuong mai',\n",
       " 'bảo hiểm hàng hóa',\n",
       " 'bhhanghoa',\n",
       " 'bh hàng hóa',\n",
       " 'bh hang hoa',\n",
       " 'bảo hiểm thiệt hại',\n",
       " 'bhthiệthại',\n",
       " 'bhthiethai',\n",
       " 'bh thiệt hại',\n",
       " 'bh thiet hai',\n",
       " 'bhnongnghiep',\n",
       " 'bh nông nghiệp',\n",
       " 'bh nong nghiep',\n",
       " 'bảo hiểm phi nhân thọ',\n",
       " 'bhphinhantho',\n",
       " 'bhphinhânthọ',\n",
       " 'bh phi nhân thọ',\n",
       " 'bh phi nhan tho',\n",
       " 'bhpnt',\n",
       " 'bảo hiểm cháy nổ',\n",
       " 'bhchayno',\n",
       " 'bh cháy nổ',\n",
       " 'bảo hiểm tổng hợp',\n",
       " 'bhtổnghợp',\n",
       " 'bhtonghop',\n",
       " 'manulife',\n",
       " 'bảo việt',\n",
       " 'bảoviệt',\n",
       " 'baoviet',\n",
       " 'bảo việt',\n",
       " 'bao viet',\n",
       " 'bảo_việt',\n",
       " 'bao_viet',\n",
       " 'aia',\n",
       " 'vbi',\n",
       " 'cathaylife',\n",
       " 'cathay life',\n",
       " 'dai-ichi',\n",
       " 'dai ichi',\n",
       " 'daiichi',\n",
       " 'aviva',\n",
       " 'fwd',\n",
       " 'pvi',\n",
       " 'mb ageas',\n",
       " 'mbagesa',\n",
       " 'prudential',\n",
       " 'generali',\n",
       " 'chubblife',\n",
       " 'chubb life',\n",
       " 'hanwha',\n",
       " 'sunlife',\n",
       " 'sun life',\n",
       " 'liberty',\n",
       " 'bảo minh',\n",
       " 'bảominh',\n",
       " 'baominh',\n",
       " 'bảo_minh',\n",
       " 'bao minh',\n",
       " 'bao_minh',\n",
       " 'phú hưng',\n",
       " 'phú_hưng',\n",
       " 'phúhưng',\n",
       " 'phu hung',\n",
       " 'phu_hung',\n",
       " 'phuhung',\n",
       " 'bidv metlife',\n",
       " 'bidvmetlife',\n",
       " 'bidv_metlife',\n",
       " '']"
      ]
     },
     "execution_count": 42,
     "metadata": {},
     "output_type": "execute_result"
    }
   ],
   "source": [
    "classify_kw= []\n",
    "cls_kw = open(\"classify_keyword.txt\", encoding=\"utf-8\")\n",
    "for i in cls_kw:\n",
    "    classify_kw.append(i.strip())\n",
    "classify_kw"
   ]
  },
  {
   "cell_type": "code",
   "execution_count": 6,
   "metadata": {},
   "outputs": [
    {
     "name": "stdout",
     "output_type": "stream",
     "text": [
      "['bảo hiểm y tế', 'bhyt', 'bh_y_te', 'bh_y_tế', 'bhytế', 'bhyte', 'bh y tế', 'bh y te']\n"
     ]
    }
   ],
   "source": []
  },
  {
   "cell_type": "code",
   "execution_count": 28,
   "metadata": {},
   "outputs": [
    {
     "data": {
      "text/plain": [
       "['bảo hiểm y tế',\n",
       " 'bhyt',\n",
       " 'bh_y_te',\n",
       " 'bh_y_tế',\n",
       " 'bhytế',\n",
       " 'bhyte',\n",
       " 'bh y tế',\n",
       " 'bh y te']"
      ]
     },
     "execution_count": 28,
     "metadata": {},
     "output_type": "execute_result"
    }
   ],
   "source": [
    "classify_kw[0:8]"
   ]
  },
  {
   "cell_type": "code",
   "execution_count": 18,
   "metadata": {},
   "outputs": [
    {
     "data": {
      "text/plain": [
       "['bảo hiểm nhân thọ',\n",
       " 'bhnt',\n",
       " 'bh_nhan_tho',\n",
       " 'bh_nhân_thọ',\n",
       " 'bhnhantho',\n",
       " 'bhnhânthọ',\n",
       " 'bh nhân thọ',\n",
       " 'bh nhan tho']"
      ]
     },
     "execution_count": 18,
     "metadata": {},
     "output_type": "execute_result"
    }
   ],
   "source": [
    "classify_kw[8:16]"
   ]
  },
  {
   "cell_type": "code",
   "execution_count": 27,
   "metadata": {},
   "outputs": [
    {
     "data": {
      "text/plain": [
       "['bảo hiểm sức khỏe',\n",
       " 'bhsk',\n",
       " 'bh_sức_khỏe',\n",
       " 'bh_suc_khoe',\n",
       " 'bhsứckhỏe',\n",
       " 'bhsuckhoe',\n",
       " 'bh sức khỏe',\n",
       " 'bh suc khoe',\n",
       " 'bảo hiểm bệnh hiểm nghèo',\n",
       " 'bảo hiểm chăm sóc sức khỏe',\n",
       " 'bh benh hiem ngheo',\n",
       " 'bhbệnhhiểmnghèo',\n",
       " 'bh bệnh hiểm nghèo',\n",
       " 'bhchămsócsứckhỏe',\n",
       " 'bhchamsocsuckhoe',\n",
       " 'bh cham soc suc khoe',\n",
       " 'bh chăm sóc sức khỏe']"
      ]
     },
     "execution_count": 27,
     "metadata": {},
     "output_type": "execute_result"
    }
   ],
   "source": [
    "classify_kw[16:33]"
   ]
  },
  {
   "cell_type": "code",
   "execution_count": 20,
   "metadata": {},
   "outputs": [
    {
     "data": {
      "text/plain": [
       "['bảo hiểm thân thể',\n",
       " 'bhtt',\n",
       " 'bh_thân_thể',\n",
       " 'bh_than_the',\n",
       " 'bh thân thể',\n",
       " 'bhthânthể',\n",
       " 'bhthanthe',\n",
       " 'bh than the']"
      ]
     },
     "execution_count": 20,
     "metadata": {},
     "output_type": "execute_result"
    }
   ],
   "source": [
    "classify_kw[33:41]\n"
   ]
  },
  {
   "cell_type": "code",
   "execution_count": 21,
   "metadata": {},
   "outputs": [
    {
     "data": {
      "text/plain": [
       "['bảo hiểm xe cơ giới',\n",
       " 'bhxecơgiới',\n",
       " 'bh xe cơ giới',\n",
       " 'bhxecogioi',\n",
       " 'bảo hiểm ô tô',\n",
       " 'bhôtô',\n",
       " 'bh_o_to',\n",
       " 'bh_ô_tô',\n",
       " 'bhoto',\n",
       " 'bh ô tô',\n",
       " 'bh o to',\n",
       " 'bảo hiểm xe máy',\n",
       " 'bhxemáy',\n",
       " 'bhxemay',\n",
       " 'bh_xe_máy',\n",
       " 'bh_xe_may',\n",
       " 'bh xe máy',\n",
       " 'bh xe may']"
      ]
     },
     "execution_count": 21,
     "metadata": {},
     "output_type": "execute_result"
    }
   ],
   "source": [
    "classify_kw[41:59]\n"
   ]
  },
  {
   "cell_type": "code",
   "execution_count": 26,
   "metadata": {},
   "outputs": [
    {
     "data": {
      "text/plain": [
       "['bảo hiểm xã hội',\n",
       " 'bhxh',\n",
       " 'bh_xã_hội',\n",
       " 'bh_xa_hoi',\n",
       " 'bhxãhội',\n",
       " 'bhxahoi',\n",
       " 'bh xã hội',\n",
       " 'bh xa hoi']"
      ]
     },
     "execution_count": 26,
     "metadata": {},
     "output_type": "execute_result"
    }
   ],
   "source": [
    "classify_kw[59:67]"
   ]
  },
  {
   "cell_type": "code",
   "execution_count": 25,
   "metadata": {},
   "outputs": [
    {
     "data": {
      "text/plain": [
       "['bảo hiểm tài chính', 'bhtaichinh', 'bh tài chính', 'bh tai chinh']"
      ]
     },
     "execution_count": 25,
     "metadata": {},
     "output_type": "execute_result"
    }
   ],
   "source": [
    "classify_kw[67:71]"
   ]
  },
  {
   "cell_type": "code",
   "execution_count": 29,
   "metadata": {},
   "outputs": [
    {
     "data": {
      "text/plain": [
       "['bảo hiểm kinh doanh', 'bhkinhdoanh', 'bh kinh doanh']"
      ]
     },
     "execution_count": 29,
     "metadata": {},
     "output_type": "execute_result"
    }
   ],
   "source": [
    "classify_kw[71:74]"
   ]
  },
  {
   "cell_type": "code",
   "execution_count": 30,
   "metadata": {},
   "outputs": [
    {
     "data": {
      "text/plain": [
       "['bảo hiểm tai nạn', 'bh_tai_nạn', 'bh_tai_nan', 'bhtainạn', 'bhtainan']"
      ]
     },
     "execution_count": 30,
     "metadata": {},
     "output_type": "execute_result"
    }
   ],
   "source": [
    "classify_kw[74:79]"
   ]
  },
  {
   "cell_type": "code",
   "execution_count": 31,
   "metadata": {},
   "outputs": [
    {
     "data": {
      "text/plain": [
       "['bảo hiểm tài sản',\n",
       " 'bh_tài_sản',\n",
       " 'bh_tai_san',\n",
       " 'bh tài sản',\n",
       " 'bh_tài_sản',\n",
       " 'bhtaisan',\n",
       " 'bh tai san',\n",
       " 'bảo hiểm nhà',\n",
       " 'bhnhà',\n",
       " 'bhnha',\n",
       " 'bh nhà']"
      ]
     },
     "execution_count": 31,
     "metadata": {},
     "output_type": "execute_result"
    }
   ],
   "source": [
    "classify_kw[79:90]"
   ]
  },
  {
   "cell_type": "code",
   "execution_count": 33,
   "metadata": {},
   "outputs": [
    {
     "data": {
      "text/plain": [
       "['bảo hiểm tín dụng',\n",
       " 'bhtindung',\n",
       " 'bh_tin_dung',\n",
       " 'bh_tín_dụng',\n",
       " 'bh tín dụng',\n",
       " 'bh tin dung']"
      ]
     },
     "execution_count": 33,
     "metadata": {},
     "output_type": "execute_result"
    }
   ],
   "source": [
    "classify_kw[90:96]"
   ]
  },
  {
   "cell_type": "code",
   "execution_count": 34,
   "metadata": {},
   "outputs": [
    {
     "data": {
      "text/plain": [
       "['bảo hiểm hàng không', 'bhhangkhong', 'bh hàng không', 'bh hang khong']"
      ]
     },
     "execution_count": 34,
     "metadata": {},
     "output_type": "execute_result"
    }
   ],
   "source": [
    "classify_kw[96:100]"
   ]
  },
  {
   "cell_type": "code",
   "execution_count": 35,
   "metadata": {},
   "outputs": [
    {
     "data": {
      "text/plain": [
       "['bảo hiểm thương mại',\n",
       " 'bhthươngmại',\n",
       " 'bhthuongmai',\n",
       " 'bh_thuong_mai',\n",
       " 'bh_thương_mại',\n",
       " 'bh thương mại',\n",
       " 'bh thuong mai']"
      ]
     },
     "execution_count": 35,
     "metadata": {},
     "output_type": "execute_result"
    }
   ],
   "source": [
    "classify_kw[100:107]"
   ]
  },
  {
   "cell_type": "code",
   "execution_count": 36,
   "metadata": {},
   "outputs": [
    {
     "data": {
      "text/plain": [
       "['bảo hiểm hàng hóa', 'bhhanghoa', 'bh hàng hóa', 'bh hang hoa']"
      ]
     },
     "execution_count": 36,
     "metadata": {},
     "output_type": "execute_result"
    }
   ],
   "source": [
    "classify_kw[107:111]"
   ]
  },
  {
   "cell_type": "code",
   "execution_count": 37,
   "metadata": {},
   "outputs": [
    {
     "data": {
      "text/plain": [
       "['bảo hiểm thiệt hại',\n",
       " 'bhthiệthại',\n",
       " 'bhthiethai',\n",
       " 'bh thiệt hại',\n",
       " 'bh thiet hai']"
      ]
     },
     "execution_count": 37,
     "metadata": {},
     "output_type": "execute_result"
    }
   ],
   "source": [
    "classify_kw[111:116]"
   ]
  },
  {
   "cell_type": "code",
   "execution_count": 38,
   "metadata": {},
   "outputs": [
    {
     "data": {
      "text/plain": [
       "['bhnongnghiep', 'bh nông nghiệp', 'bh nong nghiep']"
      ]
     },
     "execution_count": 38,
     "metadata": {},
     "output_type": "execute_result"
    }
   ],
   "source": [
    "classify_kw[116:119]"
   ]
  },
  {
   "cell_type": "code",
   "execution_count": 39,
   "metadata": {},
   "outputs": [
    {
     "data": {
      "text/plain": [
       "['bảo hiểm phi nhân thọ',\n",
       " 'bhphinhantho',\n",
       " 'bhphinhânthọ',\n",
       " 'bh phi nhân thọ',\n",
       " 'bh phi nhan tho',\n",
       " 'bhpnt']"
      ]
     },
     "execution_count": 39,
     "metadata": {},
     "output_type": "execute_result"
    }
   ],
   "source": [
    "classify_kw[119:125]"
   ]
  },
  {
   "cell_type": "code",
   "execution_count": 40,
   "metadata": {},
   "outputs": [
    {
     "data": {
      "text/plain": [
       "['bảo hiểm cháy nổ', 'bhchayno', 'bh cháy nổ']"
      ]
     },
     "execution_count": 40,
     "metadata": {},
     "output_type": "execute_result"
    }
   ],
   "source": [
    "classify_kw[125:128]"
   ]
  },
  {
   "cell_type": "code",
   "execution_count": 41,
   "metadata": {},
   "outputs": [
    {
     "data": {
      "text/plain": [
       "['bảo hiểm tổng hợp', 'bhtổnghợp', 'bhtonghop']"
      ]
     },
     "execution_count": 41,
     "metadata": {},
     "output_type": "execute_result"
    }
   ],
   "source": [
    "classify_kw[128:132]"
   ]
  },
  {
   "cell_type": "code",
   "execution_count": 43,
   "metadata": {},
   "outputs": [
    {
     "data": {
      "text/plain": [
       "['bảoviệt', 'baoviet', 'bảo việt', 'bao viet', 'bảo_việt', 'bao_viet']"
      ]
     },
     "execution_count": 43,
     "metadata": {},
     "output_type": "execute_result"
    }
   ],
   "source": [
    "classify_kw[133:139]"
   ]
  },
  {
   "cell_type": "code",
   "execution_count": 58,
   "metadata": {},
   "outputs": [
    {
     "name": "stdout",
     "output_type": "stream",
     "text": [
      "yes\n"
     ]
    }
   ],
   "source": [
    "lst = \"bim dep trai\"\n",
    "if \"bim dep\" in lst:\n",
    "    print(\"yes\")"
   ]
  },
  {
   "cell_type": "code",
   "execution_count": null,
   "metadata": {},
   "outputs": [],
   "source": []
  }
 ],
 "metadata": {
  "kernelspec": {
   "display_name": "Python 3",
   "language": "python",
   "name": "python3"
  },
  "language_info": {
   "codemirror_mode": {
    "name": "ipython",
    "version": 3
   },
   "file_extension": ".py",
   "mimetype": "text/x-python",
   "name": "python",
   "nbconvert_exporter": "python",
   "pygments_lexer": "ipython3",
   "version": "3.8.3"
  }
 },
 "nbformat": 4,
 "nbformat_minor": 4
}
